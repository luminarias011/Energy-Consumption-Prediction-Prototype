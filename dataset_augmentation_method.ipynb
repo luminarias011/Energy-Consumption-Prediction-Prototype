{
 "cells": [
  {
   "cell_type": "code",
   "execution_count": 26,
   "metadata": {},
   "outputs": [],
   "source": [
    "import csv\n",
    "import random\n",
    "\n",
    "def read_dataset(csv_file):\n",
    "    dataset = {}\n",
    "    with open(csv_file, 'r', newline='', encoding='utf-8') as file:\n",
    "        reader = csv.DictReader(file)\n",
    "        for row in reader:\n",
    "            for key, value in row.items():\n",
    "                if key not in dataset:\n",
    "                    dataset[key] = []\n",
    "                dataset[key].append(float(value))  # Parse values as floats\n",
    "    return dataset\n",
    "\n",
    "def populate_dataset(existing_dataset, num_values_to_add):\n",
    "    new_values = {}\n",
    "    for column, values in existing_dataset.items():\n",
    "        min_value = min(values)\n",
    "        max_value = max(values)\n",
    "        new_values[column] = set()\n",
    "        while len(new_values[column]) < num_values_to_add:\n",
    "            new_value = round(random.uniform(min_value, max_value), 2)  # Generate random float within range and round to 2 decimal places\n",
    "            new_values[column].add(new_value)\n",
    "    return new_values\n",
    "\n",
    "def write_to_csv(dataset, csv_file):\n",
    "    with open(csv_file, 'a', newline='', encoding='utf-8') as file:\n",
    "        writer = csv.writer(file)\n",
    "        for i in range(len(list(dataset.values())[0])):\n",
    "            row = []\n",
    "            for column in dataset:\n",
    "                row.append(list(dataset[column])[i])\n",
    "            writer.writerow(row)\n",
    "\n",
    "def main():\n",
    "    csv_file = 'C:/Users/Marco Luminarias/Downloads/Building Energy Efficiency.csv'\n",
    "    \n",
    "    existing_dataset = read_dataset(csv_file)\n",
    "    num_values_to_add = 30  # Example: specify how many random values to add\n",
    "    new_values = populate_dataset(existing_dataset, num_values_to_add)\n",
    "    write_to_csv(new_values, csv_file)\n",
    "\n",
    "if __name__ == \"__main__\":\n",
    "    main()\n"
   ]
  }
 ],
 "metadata": {
  "kernelspec": {
   "display_name": "Python 3",
   "language": "python",
   "name": "python3"
  },
  "language_info": {
   "codemirror_mode": {
    "name": "ipython",
    "version": 3
   },
   "file_extension": ".py",
   "mimetype": "text/x-python",
   "name": "python",
   "nbconvert_exporter": "python",
   "pygments_lexer": "ipython3",
   "version": "3.10.6 (tags/v3.10.6:9c7b4bd, Aug  1 2022, 21:53:49) [MSC v.1932 64 bit (AMD64)]"
  },
  "orig_nbformat": 4,
  "vscode": {
   "interpreter": {
    "hash": "28729dde3b12b26835894d8476d44eb931e70742846a1bd2c46ee3e267788273"
   }
  }
 },
 "nbformat": 4,
 "nbformat_minor": 2
}
